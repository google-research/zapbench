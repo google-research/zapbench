{
  "cells": [
    {
      "cell_type": "markdown",
      "metadata": {
        "id": "7QjPa4bWOoCq"
      },
      "source": [
        "# Metrics"
      ]
    },
    {
      "cell_type": "markdown",
      "metadata": {
        "id": "9Fzb8OE4Op0G"
      },
      "source": [
        "This tutorial explains how to load predictions made by the methods reported in the ZAPBench paper for additional analyses, e.g., to compute custom metrics."
      ]
    },
    {
      "cell_type": "code",
      "execution_count": null,
      "metadata": {
        "id": "MKQngZ06PAsF"
      },
      "outputs": [],
      "source": [
        "!pip install git+https://github.com/google-research/zapbench.git#egg=zapbench"
      ]
    },
    {
      "cell_type": "code",
      "execution_count": null,
      "metadata": {
        "id": "gL4cXGPvO1Yl"
      },
      "outputs": [],
      "source": [
        "from connectomics.common import ts_utils\n",
        "import pandas as pd\n",
        "\n",
        "\n",
        "# Load dataframe with results reported in the manuscript.\n",
        "df = pd.DataFrame(\n",
        "    ts_utils.load_json(f'gs://zapbench-release/dataframes/20250131/combined.json'))\n",
        "df.head()"
      ]
    },
    {
      "cell_type": "markdown",
      "metadata": {
        "id": "SR5kU2jFPgOl"
      },
      "source": [
        "Each run in the experiment has an experiment identifier (`xid`) in the dataframe."
      ]
    },
    {
      "cell_type": "code",
      "execution_count": null,
      "metadata": {
        "id": "WDHIAUJaRtOp"
      },
      "outputs": [],
      "source": [
        "unique_xids = df.query(\n",
        "    'method not in (\"mean\", \"stimulus\")'\n",
        ").groupby(['method', 'context'])['xid'].unique().reset_index()\n",
        "unique_xids"
      ]
    },
    {
      "cell_type": "markdown",
      "metadata": {
        "id": "w0N_WFWQSOBy"
      },
      "source": [
        "Above table shows the unique experiment IDs. There are 3 xids per method for a given context length, as we report 3 seeds each."
      ]
    },
    {
      "cell_type": "code",
      "execution_count": null,
      "metadata": {
        "id": "sScqLR0TZQhO"
      },
      "outputs": [],
      "source": [
        "unique_xids_naive_baselines = df.query(\n",
        "    'method in (\"mean\", \"stimulus\")'\n",
        ").groupby(['method', 'context'])['xid'].unique().reset_index()\n",
        "unique_xids_naive_baselines"
      ]
    },
    {
      "cell_type": "markdown",
      "metadata": {
        "id": "pC-UGz-IZVsn"
      },
      "source": [
        "For the naive baselines, stimulus, and mean, there are fewer experiment IDs -- since these baselines are deterministic, we only ran a single seed. The mean baseline for long context has two associated IDs since we used two different window lengths, as described in the manuscript."
      ]
    },
    {
      "cell_type": "markdown",
      "metadata": {
        "id": "MgwPlHSMRncV"
      },
      "source": [
        "Using the `xid`, we can obtain predictions and associated targets from Google Cloud storage for any given condition, for example:"
      ]
    },
    {
      "cell_type": "code",
      "execution_count": null,
      "metadata": {
        "id": "dZNLYQSHPbde"
      },
      "outputs": [],
      "source": [
        "import tensorstore as ts\n",
        "from zapbench import constants\n",
        "\n",
        "\n",
        "def get_data(xid, condition_id=0, subfolder='predictions', return_ds=False):\n",
        "  holdout = 'holdout_' if condition_id in constants.CONDITIONS_HOLDOUT else ''\n",
        "  ds = ts.open({\n",
        "    'driver': 'zarr',\n",
        "    'open': True,\n",
        "    'kvstore': {\n",
        "      'bucket': 'zapbench-release',\n",
        "      'driver': 'gcs',\n",
        "      'path': f'inference/20250131/{xid}/{subfolder}/test_{holdout}condition_{condition_id}/',\n",
        "    },\n",
        "  }).result()\n",
        "  return ds if return_ds else ds.read().result()\n",
        "\n",
        "\n",
        "def get_targets(xid, condition_id=0):\n",
        "  return get_data(xid, condition_id, subfolder='targets')\n",
        "\n",
        "\n",
        "def get_predictions(xid, condition_id=0):\n",
        "  return get_data(xid, condition_id, subfolder='predictions')\n",
        "\n",
        "\n",
        "xid = '146855456/1'  # linear model\n",
        "condition_name = 'gain'\n",
        "\n",
        "predictions = get_predictions(\n",
        "    xid, constants.CONDITION_NAMES.index(condition_name))\n",
        "targets = get_targets(\n",
        "    xid, constants.CONDITION_NAMES.index(condition_name))\n",
        "\n",
        "print(f'{predictions.shape=}', f'{targets.shape=}')"
      ]
    },
    {
      "cell_type": "markdown",
      "metadata": {
        "id": "EUsK5xEfQvVm"
      },
      "source": [
        "The shape of predictions and corresponding targets is `window x timestep x neuron`."
      ]
    },
    {
      "cell_type": "markdown",
      "metadata": {
        "id": "kOoNKtQ7Q8HN"
      },
      "source": [
        "We can re-compute existing metrics on these arrays, or define our own, e.g.:"
      ]
    },
    {
      "cell_type": "code",
      "execution_count": null,
      "metadata": {
        "id": "OUPu5Wv8Qo_A"
      },
      "outputs": [],
      "source": [
        "import jax.numpy as jnp\n",
        "\n",
        "\n",
        "def compute_mae_and_mse(targets, predictions):\n",
        "  diff = jnp.nan_to_num(targets) - jnp.nan_to_num(predictions)\n",
        "  mae = jnp.mean(jnp.abs(diff), axis=(0, 2))\n",
        "  mse = jnp.mean(diff**2, axis=(0, 2))\n",
        "  return mae, mse\n",
        "\n",
        "\n",
        "mae, mse = compute_mae_and_mse(targets, predictions)"
      ]
    }
  ],
  "metadata": {
    "colab": {
      "private_outputs": true,
      "provenance": []
    },
    "kernelspec": {
      "display_name": "Python 3",
      "name": "python3"
    },
    "language_info": {
      "name": "python"
    }
  },
  "nbformat": 4,
  "nbformat_minor": 0
}
