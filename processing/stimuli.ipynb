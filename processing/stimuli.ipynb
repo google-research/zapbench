{
  "cells": [
    {
      "cell_type": "markdown",
      "metadata": {
        "id": "Cl8agfloYQ8_"
      },
      "source": [
        "# Stimuli"
      ]
    },
    {
      "cell_type": "code",
      "execution_count": null,
      "metadata": {
        "id": "Vv2w7O8yYCya"
      },
      "outputs": [],
      "source": [
        "# Install dependencies\n",
        "!pip install matplotlib\n",
        "!pip install numpy\n",
        "!pip install scipy"
      ]
    },
    {
      "cell_type": "code",
      "execution_count": null,
      "metadata": {
        "id": "6HBx1U1wYYU5"
      },
      "outputs": [],
      "source": [
        "import io\n",
        "\n",
        "import matplotlib.pyplot as plt\n",
        "import numpy as np\n",
        "import scipy.signal\n",
        "\n",
        "\n",
        "CONDITION_NAMES = ('gain', 'dots', 'flash', 'taxis', 'turning', 'position',\n",
        "                   'open loop', 'rotation', 'dark')\n",
        "\n",
        "\n",
        "def load_stimuli_and_ephys(file_handle, num_channels=10):\n",
        "  try:\n",
        "    data = np.fromfile(file_handle, dtype=np.float32)\n",
        "  except io.UnsupportedOperation:\n",
        "    data = np.frombuffer(file_handle.read(), dtype=np.float32)\n",
        "  if data.size % num_channels:\n",
        "    raise ValueError(f'Data does not fit in num_channels: {num_channels}')\n",
        "  return data.reshape((-1, num_channels)).T"
      ]
    },
    {
      "cell_type": "code",
      "execution_count": null,
      "metadata": {
        "id": "yFYZZhR9eDq3"
      },
      "outputs": [],
      "source": [
        "# Download raw stimuli and ephys time-series from GCS\n",
        "!gsutil cp gs://zapbench-release/volumes/20240930/stimuli_raw/stimuli_and_ephys.10chFlt ."
      ]
    },
    {
      "cell_type": "code",
      "execution_count": null,
      "metadata": {
        "id": "uAf1xY1weMly"
      },
      "outputs": [],
      "source": [
        "with open('./stimuli_and_ephys.10chFlt', 'rb') as f:\n",
        "  stimuli_and_ephys = load_stimuli_and_ephys(f)"
      ]
    },
    {
      "cell_type": "markdown",
      "metadata": {
        "id": "hIYchqr9iJXZ"
      },
      "source": [
        "## Per-condition stimulus time-series\n",
        "\n",
        "See ZAPBench manuscript supplement for explanation of the different conditions."
      ]
    },
    {
      "cell_type": "code",
      "execution_count": null,
      "metadata": {
        "id": "0j1xXGYhfE-R"
      },
      "outputs": [],
      "source": [
        "condition_indices = stimuli_and_ephys[4]\n",
        "stimParam3 = stimuli_and_ephys[6]\n",
        "stimParam4 = stimuli_and_ephys[3]\n",
        "visual_velocity = stimuli_and_ephys[8]\n",
        "\n",
        "\n",
        "def plot_condition(condition_index):\n",
        "  _, axs = plt.subplots(figsize=(30, 10), nrows=3, sharex=True)\n",
        "  mask = (condition_indices == condition_index + 1)\n",
        "  axs[0].plot(stimParam3[mask])\n",
        "  axs[0].set_title('stimParam3')\n",
        "  axs[1].plot(stimParam4[mask])\n",
        "  axs[1].set_title('stimParam4')\n",
        "  axs[2].plot(visual_velocity[mask])\n",
        "  axs[2].set_title('visualVelocity')\n",
        "  for ax in axs:\n",
        "    ax.set_xlim([9, len(stimParam3[mask])])\n",
        "  plt.show()\n",
        "\n",
        "for condition in range(9):\n",
        "  print(CONDITION_NAMES[condition])\n",
        "  plot_condition(condition)"
      ]
    },
    {
      "cell_type": "markdown",
      "metadata": {
        "id": "T9QbrYtMiGeH"
      },
      "source": [
        "## Timestep markers (TTLs)\n",
        "\n",
        "Extracts timestep markers to align stimulus time-series (which was recorded at higher temporal resolution) with imaging."
      ]
    },
    {
      "cell_type": "code",
      "execution_count": null,
      "metadata": {
        "id": "MQs3QOQxeiUG"
      },
      "outputs": [],
      "source": [
        "timesteps = dict(emf3=7870)  # volume timesteps\n",
        "fish = 'emf3'\n",
        "\n",
        "ttls = stimuli_and_ephys[2]\n",
        "ttls_high = scipy.signal.find_peaks(ttls, distance=500, height=3.55)[0]\n",
        "ttls_low = scipy.signal.find_peaks(ttls, distance=50, height=1)[0]\n",
        "\n",
        "# remove volume imaging start steps and only keep plane imaging steps\n",
        "low_peaks = np.array([l for l in ttls_low if l not in ttls_high])\n",
        "high_peaks = ttls_high\n",
        "\n",
        "# functional data has 72 frames in z; expecting ratio of ~72 between low and high peaks\n",
        "print(f'{len(low_peaks) / len(ttls_high)=}')\n",
        "ttls_low = low_peaks\n",
        "\n",
        "# 7872 entries corresponding to onset of imaging for t=0 ... 7871; no entries for final 7 frames of dataset\n",
        "condition_index = stimuli_and_ephys[4]\n",
        "\n",
        "# idx when a given condition begins\n",
        "condition_onsets = np.where(np.diff(condition_index) != 0)[0] + 1\n",
        "print(f'{condition_onsets=}')\n",
        "\n",
        "def markers_for_timestep(t):\n",
        "  assert t \u003c timesteps[fish]\n",
        "  condition = (ttls_high[t] \u003c= ttls_low) \u0026 (ttls_high[t+1] \u003e ttls_low)\n",
        "  idx = np.where(condition)[0]\n",
        "  return ttls_low[idx]\n",
        "\n",
        "# high res timesteps per imaging timestep\n",
        "markers = [markers_for_timestep(t) for t in range(timesteps[fish])]\n",
        "\n",
        "def idx_to_t(idx):\n",
        "  for t in range(len(markers)):\n",
        "    if markers[t][0] \u003c= idx \u003c markers[t+1][0]:\n",
        "      return t\n",
        "  return None\n",
        "\n",
        "# condition onsets translated to imaging timesteps\n",
        "condition_onsets_imaging = [idx_to_t(idx) for idx in condition_onsets]"
      ]
    }
  ],
  "metadata": {
    "colab": {
      "private_outputs": true,
      "provenance": []
    },
    "kernelspec": {
      "display_name": "Python 3",
      "name": "python3"
    },
    "language_info": {
      "name": "python"
    }
  },
  "nbformat": 4,
  "nbformat_minor": 0
}
